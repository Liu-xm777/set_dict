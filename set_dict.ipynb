{
 "cells": [
  {
   "cell_type": "code",
   "execution_count": 3,
   "id": "1cd0ffe2",
   "metadata": {},
   "outputs": [],
   "source": [
    "m = {1,2,3,4} "
   ]
  },
  {
   "cell_type": "code",
   "execution_count": 4,
   "id": "b8fef32b",
   "metadata": {},
   "outputs": [
    {
     "data": {
      "text/plain": [
       "{1, 2, 3, 4}"
      ]
     },
     "execution_count": 4,
     "metadata": {},
     "output_type": "execute_result"
    }
   ],
   "source": [
    "m #建立一個數字集合並列印集合"
   ]
  },
  {
   "cell_type": "code",
   "execution_count": 11,
   "id": "4c7dc2dc",
   "metadata": {},
   "outputs": [
    {
     "data": {
      "text/plain": [
       "{1, 2, 3, 4, 5}"
      ]
     },
     "execution_count": 11,
     "metadata": {},
     "output_type": "execute_result"
    }
   ],
   "source": [
    "m={1,2,3,4}\n",
    "m.add(5)\n",
    "m #在集合中新增一個數字並再次列印集合"
   ]
  },
  {
   "cell_type": "code",
   "execution_count": 12,
   "id": "fed49d53",
   "metadata": {},
   "outputs": [
    {
     "data": {
      "text/plain": [
       "{2, 3, 4}"
      ]
     },
     "execution_count": 12,
     "metadata": {},
     "output_type": "execute_result"
    }
   ],
   "source": [
    "m={1,2,3,4}\n",
    "m.remove(1)\n",
    "m #從集合中移除一個數字並再次列印集合"
   ]
  },
  {
   "cell_type": "code",
   "execution_count": 15,
   "id": "74c3e16c",
   "metadata": {},
   "outputs": [
    {
     "data": {
      "text/plain": [
       "True"
      ]
     },
     "execution_count": 15,
     "metadata": {},
     "output_type": "execute_result"
    }
   ],
   "source": [
    "m={1,2,3,4}\n",
    "1 in m #檢查一個數字是否在集合中"
   ]
  },
  {
   "cell_type": "code",
   "execution_count": 16,
   "id": "68831b86",
   "metadata": {},
   "outputs": [
    {
     "data": {
      "text/plain": [
       "{'anna': 12, 'lisa': 13, 'jenna': 14}"
      ]
     },
     "execution_count": 16,
     "metadata": {},
     "output_type": "execute_result"
    }
   ],
   "source": [
    "b={'anna':12,'lisa':13,'jenna':14}\n",
    "b#建立一個名字和年齡的字典並列印字典"
   ]
  },
  {
   "cell_type": "code",
   "execution_count": 24,
   "id": "d8af67ff",
   "metadata": {},
   "outputs": [
    {
     "data": {
      "text/plain": [
       "12"
      ]
     },
     "execution_count": 24,
     "metadata": {},
     "output_type": "execute_result"
    }
   ],
   "source": [
    "b = {'anna':12,'lisa':13,'jenna':14}\n",
    "b.get('anna') #從字典中取得一個名字的年齡"
   ]
  },
  {
   "cell_type": "code",
   "execution_count": 36,
   "id": "61657365",
   "metadata": {},
   "outputs": [
    {
     "name": "stdout",
     "output_type": "stream",
     "text": [
      "{'anna': 12, 'lisa': 13, 'jenna': 14, 'lucy': 16}\n"
     ]
    }
   ],
   "source": [
    "b = {'anna':12,'lisa':13,'jenna':14}\n",
    "b['lucy']= 16\n",
    "print(b) #在字典中新增一個新的名字和年齡並再次列印字典"
   ]
  },
  {
   "cell_type": "code",
   "execution_count": null,
   "id": "07d839e4",
   "metadata": {},
   "outputs": [],
   "source": []
  }
 ],
 "metadata": {
  "kernelspec": {
   "display_name": "Python 3 (ipykernel)",
   "language": "python",
   "name": "python3"
  },
  "language_info": {
   "codemirror_mode": {
    "name": "ipython",
    "version": 3
   },
   "file_extension": ".py",
   "mimetype": "text/x-python",
   "name": "python",
   "nbconvert_exporter": "python",
   "pygments_lexer": "ipython3",
   "version": "3.11.4"
  }
 },
 "nbformat": 4,
 "nbformat_minor": 5
}
